{
  "nbformat": 4,
  "nbformat_minor": 0,
  "metadata": {
    "colab": {
      "provenance": [],
      "toc_visible": true
    },
    "kernelspec": {
      "name": "python3",
      "display_name": "Python 3"
    },
    "language_info": {
      "name": "python"
    }
  },
  "cells": [
    {
      "cell_type": "markdown",
      "source": [
        "Nome: César Augusto Julio da Silva \\\\\n",
        "DRE: 116151713 \\\\\n",
        "\n"
      ],
      "metadata": {
        "id": "VshG03rhNzHq"
      }
    },
    {
      "cell_type": "markdown",
      "source": [
        "## **Roteiro da Prova**\n",
        "\n",
        "Utilize o dataset Iris com todas as 150 instâncias.\n",
        "1. separe 10% do dataset (15 instâncias, sendo 5 de cada classe) que serão usadas posteriormente.\n",
        "2. para os 90% restantes, você vai usar K-fold com K = 5.\n",
        "3. Inicialmente, utilize todas as variávéis de entrada do dataset.\n",
        "4. utilize o classificador multi perceptron MLPClassifier\n",
        "(https://scikit-learn.org/stable/modules/generated/sklearn.neural_network.MLPClassifier.html)\n",
        "com os seguintes valores:\n",
        "- 1 camada escondida com 2 neurônios\n",
        "- número máximo de iterações: 500\n",
        "- identity\n",
        "- solver: adam\n",
        "5. Para cada fold:\n",
        "- informe o score de treinamento e teste\n",
        "- plote um gráfico com o comportamento da função de perda. Você pode plotar em um gráfico só, todas as funções de perda.\n",
        "6. Analise o que ocorreu.\n",
        "7. Ainda usando os 90% dos dados e K-fold=5, repita o experimento alterados os parâmetros anteriores. A escolha de qual(is) parâmetro(s) será(ão) alterados deve ser justificado. O que você espera alterando o(s) parâmetro(s)? O resultado obtido foi o esperado?\n",
        "8. Após terminar todos os experientos, escolha o modelo gerado que você considera o melhor resultado. Usando os parâmetros deste modelo, faça um novo treinamento usando todos os 90% dos dados.\n",
        "9. Avalie o modelo gerado no item 8 usando as 15 instâncias que não foram usadas.\n",
        "10. O que entregar?\n",
        "Vocẽ deve entregar o colab que você usou e um relatório discutindo os resultados. ATENÇÃO: o relatório NÃO deve ser uma cópia do colab. Nele você deve colocar apenas os resultados mais importantes e suas respectivas análises.\n",
        "\n",
        "Esta tarefa é individual e conforme combinado na última aula valerá como uma prova.\n",
        "\n",
        "Não serão aceitos trabalhos entregues fora do prazo.\n"
      ],
      "metadata": {
        "id": "ZiKXQdsxHsqZ"
      }
    },
    {
      "cell_type": "markdown",
      "source": [
        "## **Teste Inicial**"
      ],
      "metadata": {
        "id": "DXYBpnp3ur2Z"
      }
    },
    {
      "cell_type": "code",
      "execution_count": null,
      "metadata": {
        "id": "WW8PCJQc39bI"
      },
      "outputs": [],
      "source": [
        "from sklearn.datasets import load_iris\n",
        "from sklearn.model_selection import train_test_split, KFold\n",
        "from sklearn.neural_network import MLPClassifier\n",
        "import matplotlib.pyplot as plt\n",
        "\n",
        "import pandas as pd\n",
        "import warnings"
      ]
    },
    {
      "cell_type": "code",
      "source": [
        "#Carregando os dados\n",
        "iris = load_iris()\n",
        "x = iris.data\n",
        "y = iris.target\n",
        "\n",
        "r_state = 100\n",
        "\n",
        "#Separação de 10% para teste (random_state = 100, para efeitos de reprodutibilidade)\n",
        "x_train, x_test, y_train, y_test = train_test_split(x, y, test_size=0.1, random_state=r_state)\n",
        "\n",
        "#Divisão de k = 5\n",
        "kf = KFold(n_splits=5, shuffle = True, random_state=r_state)\n",
        "\n",
        "#Utilização do classificador multi perceptron\n",
        "clf = MLPClassifier(hidden_layer_sizes = (2,), max_iter=500, activation='identity', solver='adam', random_state=r_state)\n",
        "\n",
        "#Coloquei isso só para remover o \"Convergence Warning\"\n",
        "with warnings.catch_warnings():\n",
        "  warnings.simplefilter(\"ignore\")\n",
        "\n",
        "  #Dados para os gráficos das funções de perda\n",
        "  losses_data = []\n",
        "\n",
        "  #Listas para exibir o dataframe\n",
        "  scores_train = []\n",
        "  scores_test = []\n",
        "  losses = []\n",
        "  df = pd.DataFrame()\n",
        "\n",
        "  #Para cada fold, informar score de treinamento e teste\n",
        "  for i, (train_i, test_i) in enumerate(kf.split(x_train, y_train)):\n",
        "\n",
        "    clf.fit(x_train[train_i], y_train[train_i])\n",
        "\n",
        "    #Score de Treinamento\n",
        "    score_train = clf.score(x_train[train_i], y_train[train_i])\n",
        "    scores_train.append(score_train)\n",
        "\n",
        "    #Score de Teste\n",
        "    score_test = clf.score(x_train[test_i], y_train[test_i])\n",
        "    scores_test.append(score_test)\n",
        "\n",
        "    #Guarda cada curva de perda\n",
        "    losses_data.append(clf.loss_curve_)\n",
        "\n",
        "    #Ultima perda registrada\n",
        "    losses.append(clf.loss_)\n",
        "\n",
        "  #Um dataframe criado para exibir os dados de uma forma mais organizada\n",
        "  df = pd.DataFrame(data={\"K\": list(range(1,6)), \"Score de Treinamento\": scores_train, \"Score de Teste\": scores_test, \"Ultima Perda\": losses})\n",
        "  print(df)\n",
        "  print()\n",
        "\n",
        "  #Grafico da Curva de Perda\n",
        "  for i, loss_curve in enumerate(losses_data):\n",
        "    plt.plot(loss_curve, label=f\"K={i+1}\")\n",
        "  plt.xlabel(\"Iteração\")\n",
        "  plt.ylabel(\"Função de Perda\")\n",
        "  plt.legend()\n",
        "  plt.show()\n"
      ],
      "metadata": {
        "colab": {
          "base_uri": "https://localhost:8080/",
          "height": 576
        },
        "id": "Bx6pnsXM8Coe",
        "outputId": "18496c0a-2566-4664-b54c-ea61ec3c4ee4"
      },
      "execution_count": null,
      "outputs": [
        {
          "output_type": "stream",
          "name": "stdout",
          "text": [
            "   K  Score de Treinamento  Score de Teste  Ultima Perda\n",
            "0  1              0.731481        0.703704      0.510589\n",
            "1  2              0.851852        0.851852      0.489160\n",
            "2  3              0.842593        0.740741      0.475293\n",
            "3  4              0.861111        0.740741      0.483593\n",
            "4  5              0.814815        0.962963      0.513673\n",
            "\n"
          ]
        },
        {
          "output_type": "display_data",
          "data": {
            "text/plain": [
              "<Figure size 640x480 with 1 Axes>"
            ],
            "image/png": "[encoded data removed]"
          },
          "metadata": {}
        }
      ]
    },
    {
      "cell_type": "markdown",
      "source": [
        "É possível observar que a função de perda converge em todos os K's para aproximadamente 0.5 (um meio)."
      ],
      "metadata": {
        "id": "97VXUI5cYRaP"
      }
    },
    {
      "cell_type": "markdown",
      "source": [
        "## **Alteração dos parâmetros**\n",
        "\n",
        "\n",
        "\n",
        "1.   Modificação do número de iterações\n",
        "2.   Modificação do número de neurônios (mantendo somente uma camada)\n",
        "3.   Modificação do número de camadas (mantendo somente dois neurônios)\n",
        "\n"
      ],
      "metadata": {
        "id": "bgoIvlK-gPDt"
      }
    },
    {
      "cell_type": "markdown",
      "source": [
        "### **Modificação do Número de Iterações**"
      ],
      "metadata": {
        "id": "zQtIhXfgk5Rj"
      }
    },
    {
      "cell_type": "code",
      "source": [
        "#Primeira mudanca, modificar numero de iteracoes\n",
        "iterations = [100, 1000, 10000, 100000]\n",
        "\n",
        "dfs = []\n",
        "\n",
        "for iter in iterations:\n",
        "  clf = MLPClassifier(hidden_layer_sizes = (2,), max_iter=iter, activation='identity', solver='adam', random_state=r_state)\n",
        "\n",
        "  with warnings.catch_warnings():\n",
        "    warnings.simplefilter(\"ignore\")\n",
        "\n",
        "    scores_train = []\n",
        "    scores_test = []\n",
        "    losses = []\n",
        "    df = pd.DataFrame()\n",
        "\n",
        "    for i, (train_i, test_i) in enumerate(kf.split(x_train, y_train)):\n",
        "\n",
        "      clf.fit(x_train[train_i], y_train[train_i])\n",
        "\n",
        "      #Score de Treinamento\n",
        "      score_train = clf.score(x_train[train_i], y_train[train_i])\n",
        "      scores_train.append(score_train)\n",
        "\n",
        "      #Score de Teste\n",
        "      score_test = clf.score(x_train[test_i], y_train[test_i])\n",
        "      scores_test.append(score_test)\n",
        "\n",
        "      #Ultima perda registrada\n",
        "      losses.append(clf.loss_)\n",
        "\n",
        "    df = pd.DataFrame(data={\"K\": list(range(1,6)), \"Score de Treinamento\": scores_train, \"Score de Teste\": scores_test, \"Ultima Perda\": losses})\n",
        "    dfs.append([iter, df])\n",
        "\n",
        "#Dataframes sao exibidos por cada iteracao (parametro modificado)\n",
        "for iter, df in dfs:\n",
        "  print(f\"\\nNumero de Iteracoes: {iter}\\n\")\n",
        "  print(df)\n",
        "  print()"
      ],
      "metadata": {
        "colab": {
          "base_uri": "https://localhost:8080/"
        },
        "id": "aEzwOzfLYa6V",
        "outputId": "31ddd302-3ff2-44df-e5a2-19f871a1232a"
      },
      "execution_count": null,
      "outputs": [
        {
          "output_type": "stream",
          "name": "stdout",
          "text": [
            "\n",
            "Numero de Iteracoes: 100\n",
            "\n",
            "   K  Score de Treinamento  Score de Teste  Ultima Perda\n",
            "0  1              0.324074        0.518519      1.306895\n",
            "1  2              0.379630        0.370370      1.217762\n",
            "2  3              0.407407        0.259259      1.159064\n",
            "3  4              0.361111        0.407407      1.211018\n",
            "4  5              0.388889        0.296296      1.225120\n",
            "\n",
            "\n",
            "Numero de Iteracoes: 1000\n",
            "\n",
            "   K  Score de Treinamento  Score de Teste  Ultima Perda\n",
            "0  1              0.935185        0.925926      0.345125\n",
            "1  2              0.944444        0.925926      0.319323\n",
            "2  3              0.935185        0.888889      0.301115\n",
            "3  4              0.925926        0.888889      0.317847\n",
            "4  5              0.925926        1.000000      0.346879\n",
            "\n",
            "\n",
            "Numero de Iteracoes: 10000\n",
            "\n",
            "   K  Score de Treinamento  Score de Teste  Ultima Perda\n",
            "0  1              0.972222        0.962963      0.161179\n",
            "1  2              0.962963        0.962963      0.141851\n",
            "2  3              0.972222        0.962963      0.131627\n",
            "3  4              0.972222        0.925926      0.147076\n",
            "4  5              0.953704        1.000000      0.153750\n",
            "\n",
            "\n",
            "Numero de Iteracoes: 100000\n",
            "\n",
            "   K  Score de Treinamento  Score de Teste  Ultima Perda\n",
            "0  1              0.972222        0.962963      0.161179\n",
            "1  2              0.962963        0.962963      0.141851\n",
            "2  3              0.972222        0.962963      0.131627\n",
            "3  4              0.972222        0.925926      0.147076\n",
            "4  5              0.953704        1.000000      0.153750\n",
            "\n"
          ]
        }
      ]
    },
    {
      "cell_type": "markdown",
      "source": [
        "### **Modificação do Número de Neurônios**"
      ],
      "metadata": {
        "id": "9LT3SWJBlBoD"
      }
    },
    {
      "cell_type": "code",
      "source": [
        "#Modificacao do numero de neuronios\n",
        "\n",
        "neurons = [2, 8, 32, 128]\n",
        "\n",
        "dfs =[]\n",
        "losses_tests = []\n",
        "\n",
        "for neuron in neurons:\n",
        "  clf = MLPClassifier(hidden_layer_sizes = (neuron,), max_iter=500, activation='identity', solver='adam', random_state=r_state)\n",
        "\n",
        "  #Coloquei isso só para remover o \"Convergence Warning\"\n",
        "  with warnings.catch_warnings():\n",
        "    warnings.simplefilter(\"ignore\")\n",
        "\n",
        "    scores_train = []\n",
        "    scores_test = []\n",
        "    losses = []\n",
        "    df = pd.DataFrame()\n",
        "\n",
        "    #Dados extras para grafico\n",
        "    losses_curves = []\n",
        "\n",
        "    #Para cada fold, informar score de treinamento e teste\n",
        "    for i, (train_i, test_i) in enumerate(kf.split(x_train, y_train)):\n",
        "\n",
        "      clf.fit(x_train[train_i], y_train[train_i])\n",
        "\n",
        "      #Score de Treinamento\n",
        "      score_train = clf.score(x_train[train_i], y_train[train_i])\n",
        "      scores_train.append(score_train)\n",
        "\n",
        "      #Score de Teste\n",
        "      score_test = clf.score(x_train[test_i], y_train[test_i])\n",
        "      scores_test.append(score_test)\n",
        "\n",
        "      #Ultima perda registrada\n",
        "      losses.append(clf.loss_)\n",
        "\n",
        "      #Curva de perda\n",
        "      losses_curves.append(clf.loss_curve_)\n",
        "\n",
        "    df = pd.DataFrame(data={\"K\": list(range(1,6)), \"Score de Treinamento\": scores_train, \"Score de Teste\": scores_test, \"Ultima Perda\": losses})\n",
        "    dfs.append([neuron, df])\n",
        "    losses_tests.append(losses_curves)\n",
        "\n",
        "for neuron, df in dfs:\n",
        "  print(f\"\\nNumero de Neuronios: {neuron}\\n\")\n",
        "  print(df)\n",
        "  print()\n",
        "\n",
        "\n",
        "#Graficos das Curvas de Perda\n",
        "fig, axs = plt.subplots(2, 2)\n",
        "for k, loss_curve in enumerate(losses_tests[0]):\n",
        "  axs[0, 0].plot(loss_curve)\n",
        "axs[0, 0].set_title(\"Neuronios = 2\")\n",
        "for k, loss_curve in enumerate(losses_tests[1]):\n",
        "  axs[1, 0].plot(loss_curve)\n",
        "axs[1, 0].set_title(\"Neuronios = 8\")\n",
        "for k, loss_curve in enumerate(losses_tests[2]):\n",
        "  axs[0, 1].plot(loss_curve)\n",
        "axs[0, 1].set_title(\"Neuronios = 32\")\n",
        "for k, loss_curve in enumerate(losses_tests[3]):\n",
        "  axs[1, 1].plot(loss_curve)\n",
        "axs[1, 1].set_title(\"Neuronios = 128\")\n",
        "fig.tight_layout()\n",
        "\n"
      ],
      "metadata": {
        "colab": {
          "base_uri": "https://localhost:8080/",
          "height": 1000
        },
        "id": "2rtXbSERbFjB",
        "outputId": "d10f07fd-faf3-4f34-c40e-261e5ae6e160"
      },
      "execution_count": null,
      "outputs": [
        {
          "output_type": "stream",
          "name": "stdout",
          "text": [
            "\n",
            "Numero de Neuronios: 2\n",
            "\n",
            "   K  Score de Treinamento  Score de Teste  Ultima Perda\n",
            "0  1              0.731481        0.703704      0.510589\n",
            "1  2              0.851852        0.851852      0.489160\n",
            "2  3              0.842593        0.740741      0.475293\n",
            "3  4              0.861111        0.740741      0.483593\n",
            "4  5              0.814815        0.962963      0.513673\n",
            "\n",
            "\n",
            "Numero de Neuronios: 8\n",
            "\n",
            "   K  Score de Treinamento  Score de Teste  Ultima Perda\n",
            "0  1              0.925926        0.962963      0.412755\n",
            "1  2              0.981481        0.962963      0.368213\n",
            "2  3              0.972222        0.925926      0.349110\n",
            "3  4              0.962963        0.962963      0.363830\n",
            "4  5              0.981481        0.962963      0.415864\n",
            "\n",
            "\n",
            "Numero de Neuronios: 32\n",
            "\n",
            "   K  Score de Treinamento  Score de Teste  Ultima Perda\n",
            "0  1              0.972222        0.962963      0.242247\n",
            "1  2              0.972222        0.962963      0.222408\n",
            "2  3              0.972222        0.925926      0.207406\n",
            "3  4              0.972222        0.925926      0.230035\n",
            "4  5              0.972222        1.000000      0.240308\n",
            "\n",
            "\n",
            "Numero de Neuronios: 128\n",
            "\n",
            "   K  Score de Treinamento  Score de Teste  Ultima Perda\n",
            "0  1              0.972222        1.000000      0.094347\n",
            "1  2              0.990741        0.925926      0.078112\n",
            "2  3              0.990741        0.962963      0.069548\n",
            "3  4              0.981481        0.925926      0.082279\n",
            "4  5              0.972222        1.000000      0.093883\n",
            "\n"
          ]
        },
        {
          "output_type": "display_data",
          "data": {
            "text/plain": [
              "<Figure size 640x480 with 4 Axes>"
            ],
            "image/png": "[encoded data removed]"
          },
          "metadata": {}
        }
      ]
    },
    {
      "cell_type": "markdown",
      "source": [
        "### **Modificação do Número de Camadas**"
      ],
      "metadata": {
        "id": "AwadwKDcvhzA"
      }
    },
    {
      "cell_type": "code",
      "source": [
        "#Modificacao do numero de camadas\n",
        "layers = [1, 2, 3, 4]\n",
        "\n",
        "dfs =[]\n",
        "\n",
        "for layer in layers:\n",
        "  clf = MLPClassifier(hidden_layer_sizes = (2,)*layer, max_iter=500, activation='identity', solver='adam', random_state=r_state)\n",
        "\n",
        "  with warnings.catch_warnings():\n",
        "    warnings.simplefilter(\"ignore\")\n",
        "\n",
        "    scores_train = []\n",
        "    scores_test = []\n",
        "    losses = []\n",
        "    df = pd.DataFrame()\n",
        "\n",
        "    #Para cada fold, informar score de treinamento e teste\n",
        "    for i, (train_i, test_i) in enumerate(kf.split(x_train, y_train)):\n",
        "\n",
        "      clf.fit(x_train[train_i], y_train[train_i])\n",
        "\n",
        "      #Score de Treinamento\n",
        "      score_train = clf.score(x_train[train_i], y_train[train_i])\n",
        "      scores_train.append(score_train)\n",
        "\n",
        "      #Score de Teste\n",
        "      score_test = clf.score(x_train[test_i], y_train[test_i])\n",
        "      scores_test.append(score_test)\n",
        "\n",
        "      #Ultima perda registrada\n",
        "      losses.append(clf.loss_)\n",
        "\n",
        "    df = pd.DataFrame(data={\"K\": list(range(1,6)), \"Score de Treinamento\": scores_train, \"Score de Teste\": scores_test, \"Ultima Perda\": losses})\n",
        "    dfs.append([layer, df])\n",
        "\n",
        "for layer, df in dfs:\n",
        "  print(f\"\\nNumero de Camadas: {layer}\\n\")\n",
        "  print(df)\n",
        "  print()"
      ],
      "metadata": {
        "colab": {
          "base_uri": "https://localhost:8080/"
        },
        "id": "9-obiu40bOM0",
        "outputId": "725de1ba-e222-45a1-d367-3bc3b9e6f04e"
      },
      "execution_count": null,
      "outputs": [
        {
          "output_type": "stream",
          "name": "stdout",
          "text": [
            "\n",
            "Numero de Camadas: 1\n",
            "\n",
            "   K  Score de Treinamento  Score de Teste  Ultima Perda\n",
            "0  1              0.731481        0.703704      0.510589\n",
            "1  2              0.851852        0.851852      0.489160\n",
            "2  3              0.842593        0.740741      0.475293\n",
            "3  4              0.861111        0.740741      0.483593\n",
            "4  5              0.814815        0.962963      0.513673\n",
            "\n",
            "\n",
            "Numero de Camadas: 2\n",
            "\n",
            "   K  Score de Treinamento  Score de Teste  Ultima Perda\n",
            "0  1              0.666667        0.629630      0.642784\n",
            "1  2              0.629630        0.555556      0.648019\n",
            "2  3              0.611111        0.629630      0.656787\n",
            "3  4              0.611111        0.740741      0.659660\n",
            "4  5              0.638889        0.518519      0.652534\n",
            "\n",
            "\n",
            "Numero de Camadas: 3\n",
            "\n",
            "   K  Score de Treinamento  Score de Teste  Ultima Perda\n",
            "0  1              0.638889        0.555556      0.709882\n",
            "1  2              0.759259        0.814815      0.653959\n",
            "2  3              0.824074        0.740741      0.618219\n",
            "3  4              0.787037        0.629630      0.652098\n",
            "4  5              0.722222        0.925926      0.689651\n",
            "\n",
            "\n",
            "Numero de Camadas: 4\n",
            "\n",
            "   K  Score de Treinamento  Score de Teste  Ultima Perda\n",
            "0  1              0.814815        0.666667      0.469709\n",
            "1  2              0.925926        0.925926      0.466874\n",
            "2  3              0.898148        0.814815      0.454462\n",
            "3  4              0.953704        1.000000      0.458657\n",
            "4  5              0.916667        0.962963      0.488112\n",
            "\n"
          ]
        }
      ]
    },
    {
      "cell_type": "markdown",
      "source": [
        "## **Melhor resultado**\n",
        "\n"
      ],
      "metadata": {
        "id": "5Wtdc1mYvrpK"
      }
    },
    {
      "cell_type": "markdown",
      "source": [
        "### **Comparando os melhores casos de cada teste**"
      ],
      "metadata": {
        "id": "9jb54lfXv6iH"
      }
    },
    {
      "cell_type": "code",
      "source": [
        "#Modificacao do numero de camadas\n",
        "clf = MLPClassifier(hidden_layer_sizes = (2,), max_iter=10000, activation='identity', solver='adam', random_state=r_state)\n",
        "\n",
        "with warnings.catch_warnings():\n",
        "  warnings.simplefilter(\"ignore\")\n",
        "\n",
        "  scores_train = []\n",
        "  scores_test = []\n",
        "  losses = []\n",
        "\n",
        "  #Para cada fold, informar score de treinamento e teste\n",
        "  for i, (train_i, test_i) in enumerate(kf.split(x_train, y_train)):\n",
        "\n",
        "    clf.fit(x_train[train_i], y_train[train_i])\n",
        "\n",
        "    #Score de Treinamento\n",
        "    score_train = clf.score(x_train[train_i], y_train[train_i])\n",
        "    scores_train.append(score_train)\n",
        "\n",
        "    #Score de Teste\n",
        "    score_test = clf.score(x_train[test_i], y_train[test_i])\n",
        "    scores_test.append(score_test)\n",
        "\n",
        "    #Ultima perda registrada\n",
        "    losses.append(clf.loss_)\n",
        "\n",
        "  df1 = pd.DataFrame(data={\"K\": list(range(1,6)), \"Score de Treinamento\": scores_train, \"Score de Teste\": scores_test, \"Ultima Perda\": losses})\n",
        "  print(f\"\\nNumero de Iterações: 10000\\n\")\n",
        "  print(df1)\n",
        "  print()\n",
        "\n",
        "\n",
        "  #Modificacao do numero de camadas\n",
        "  clf = MLPClassifier(hidden_layer_sizes = (128,), max_iter=500, activation='identity', solver='adam', random_state=r_state)\n",
        "\n",
        "  scores_train = []\n",
        "  scores_test = []\n",
        "  losses = []\n",
        "\n",
        "  #Para cada fold, informar score de treinamento e teste\n",
        "  for i, (train_i, test_i) in enumerate(kf.split(x_train, y_train)):\n",
        "\n",
        "    clf.fit(x_train[train_i], y_train[train_i])\n",
        "\n",
        "    #Score de Treinamento\n",
        "    score_train = clf.score(x_train[train_i], y_train[train_i])\n",
        "    scores_train.append(score_train)\n",
        "\n",
        "    #Score de Teste\n",
        "    score_test = clf.score(x_train[test_i], y_train[test_i])\n",
        "    scores_test.append(score_test)\n",
        "\n",
        "    #Ultima perda registrada\n",
        "    losses.append(clf.loss_)\n",
        "\n",
        "  df2 = pd.DataFrame(data={\"K\": list(range(1,6)), \"Score de Treinamento\": scores_train, \"Score de Teste\": scores_test, \"Ultima Perda\": losses})\n",
        "  print(f\"\\nNumero de Neuronios: 128\\n\")\n",
        "  print(df2)\n",
        "  print()\n",
        "\n",
        "\n",
        "  #Modificacao do numero de camadas\n",
        "  clf = MLPClassifier(hidden_layer_sizes = (2,2,2,2,), max_iter=500, activation='identity', solver='adam', random_state=r_state)\n",
        "\n",
        "  scores_train = []\n",
        "  scores_test = []\n",
        "  losses = []\n",
        "\n",
        "  #Para cada fold, informar score de treinamento e teste\n",
        "  for i, (train_i, test_i) in enumerate(kf.split(x_train, y_train)):\n",
        "\n",
        "    clf.fit(x_train[train_i], y_train[train_i])\n",
        "\n",
        "    #Score de Treinamento\n",
        "    score_train = clf.score(x_train[train_i], y_train[train_i])\n",
        "    scores_train.append(score_train)\n",
        "\n",
        "    #Score de Teste\n",
        "    score_test = clf.score(x_train[test_i], y_train[test_i])\n",
        "    scores_test.append(score_test)\n",
        "\n",
        "    #Ultima perda registrada\n",
        "    losses.append(clf.loss_)\n",
        "\n",
        "  df3 = pd.DataFrame(data={\"K\": list(range(1,6)), \"Score de Treinamento\": scores_train, \"Score de Teste\": scores_test, \"Ultima Perda\": losses})\n",
        "  print(f\"\\nNumero de Camadas: 4\\n\")\n",
        "  print(df3)\n",
        "  print()"
      ],
      "metadata": {
        "colab": {
          "base_uri": "https://localhost:8080/"
        },
        "id": "FfdlwvTwv_DC",
        "outputId": "4e15eec9-2dbc-40ca-fbec-0aeef85da1d2"
      },
      "execution_count": null,
      "outputs": [
        {
          "output_type": "stream",
          "name": "stdout",
          "text": [
            "\n",
            "Numero de Iterações: 10000\n",
            "\n",
            "   K  Score de Treinamento  Score de Teste  Ultima Perda\n",
            "0  1              0.972222        0.962963      0.161179\n",
            "1  2              0.962963        0.962963      0.141851\n",
            "2  3              0.972222        0.962963      0.131627\n",
            "3  4              0.972222        0.925926      0.147076\n",
            "4  5              0.953704        1.000000      0.153750\n",
            "\n",
            "\n",
            "Numero de Neuronios: 128\n",
            "\n",
            "   K  Score de Treinamento  Score de Teste  Ultima Perda\n",
            "0  1              0.972222        1.000000      0.094347\n",
            "1  2              0.990741        0.925926      0.078112\n",
            "2  3              0.990741        0.962963      0.069548\n",
            "3  4              0.981481        0.925926      0.082279\n",
            "4  5              0.972222        1.000000      0.093883\n",
            "\n",
            "\n",
            "Numero de Camadas: 4\n",
            "\n",
            "   K  Score de Treinamento  Score de Teste  Ultima Perda\n",
            "0  1              0.814815        0.666667      0.469709\n",
            "1  2              0.925926        0.925926      0.466874\n",
            "2  3              0.898148        0.814815      0.454462\n",
            "3  4              0.953704        1.000000      0.458657\n",
            "4  5              0.916667        0.962963      0.488112\n",
            "\n"
          ]
        }
      ]
    },
    {
      "cell_type": "markdown",
      "source": [
        "### **Executando o melhor caso**"
      ],
      "metadata": {
        "id": "_7uOitSk2JJy"
      }
    },
    {
      "cell_type": "code",
      "source": [
        "#Modificacao do numero de camadas\n",
        "clf = MLPClassifier(hidden_layer_sizes = (2,2,2,2,), max_iter=500, activation='identity', solver='adam', random_state=r_state)\n",
        "\n",
        "with warnings.catch_warnings():\n",
        "  warnings.simplefilter(\"ignore\")\n",
        "\n",
        "  #Execução do teste final\n",
        "  clf.fit(x_train, y_train)\n",
        "  test_score = clf.score(x_test, y_test)\n",
        "  print(test_score)"
      ],
      "metadata": {
        "colab": {
          "base_uri": "https://localhost:8080/"
        },
        "id": "7nPvYWxq2IoE",
        "outputId": "813d8188-98f2-4bc0-ed4b-90ce3e675556"
      },
      "execution_count": null,
      "outputs": [
        {
          "output_type": "stream",
          "name": "stdout",
          "text": [
            "1.0\n"
          ]
        }
      ]
    }
  ]
}